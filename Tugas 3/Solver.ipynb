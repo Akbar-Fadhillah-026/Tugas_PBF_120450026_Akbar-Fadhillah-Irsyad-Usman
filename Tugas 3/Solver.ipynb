{
  "nbformat": 4,
  "nbformat_minor": 0,
  "metadata": {
    "colab": {
      "name": "Solver.ipynb",
      "provenance": [],
      "collapsed_sections": []
    },
    "kernelspec": {
      "name": "python3",
      "display_name": "Python 3"
    },
    "language_info": {
      "name": "python"
    }
  },
  "cells": [
    {
      "cell_type": "code",
      "execution_count": 1,
      "metadata": {
        "id": "aNIMBt3aFzKG"
      },
      "outputs": [],
      "source": [
        "def euler(t,h,y,dy,Func):\n",
        "  d2y = Func(t,y,dy)\n",
        "  y_next = y + (h * dy)\n",
        "  dy_next = dy + (h * d2y)\n",
        "  return (y_next, dy_next)\n",
        "\n",
        "\n",
        "def cauchy_euler(params, Func):\n",
        "  # initial condition\n",
        "  t0 = params['t0']\n",
        "  t_akhir = params['t_akhir']\n",
        "  h = params['h']\n",
        "  y0 = params['y0']\n",
        "  dy0 = params['dy0']\n",
        "\n",
        "  res_euler = []\n",
        "  t = []\n",
        "  step = int((t_akhir - t0) / h)\n",
        "\n",
        "  for i in range(step):\n",
        "    tm = (i + 1) * h\n",
        "    (y_next, dy_next) = euler(tm, h, y0, dy0, Func)\n",
        "    res_euler.append(y_next)\n",
        "    t.append(tm)\n",
        "    y0 = y_next\n",
        "    dy0 = dy_next\n",
        "\n",
        "  return(t, res_euler)"
      ]
    }
  ]
}