{
  "nbformat": 4,
  "nbformat_minor": 0,
  "metadata": {
    "colab": {
      "name": "Euler method.ipynb",
      "provenance": []
    },
    "kernelspec": {
      "name": "python3",
      "display_name": "Python 3"
    },
    "language_info": {
      "name": "python"
    }
  },
  "cells": [
    {
      "cell_type": "code",
      "source": [
        "pip install solver"
      ],
      "metadata": {
        "id": "V8lkxZFXzY9m",
        "outputId": "0a32aab0-e590-410a-9d71-ec91c7b83944",
        "colab": {
          "base_uri": "https://localhost:8080/"
        }
      },
      "execution_count": 3,
      "outputs": [
        {
          "output_type": "stream",
          "name": "stdout",
          "text": [
            "Collecting solver\n",
            "  Downloading solver-0.0.4.tar.gz (2.8 kB)\n",
            "Building wheels for collected packages: solver\n",
            "  Building wheel for solver (setup.py) ... \u001b[?25l\u001b[?25hdone\n",
            "  Created wheel for solver: filename=solver-0.0.4-py3-none-any.whl size=3129 sha256=a5669b9bd81d11b276e11a5db121099e59f9885c1413e86e64bca18de8685164\n",
            "  Stored in directory: /root/.cache/pip/wheels/66/27/02/f951263ae7f5f0d6b627987a9ca9baefdb4da1f5c6f18fb4f5\n",
            "Successfully built solver\n",
            "Installing collected packages: solver\n",
            "Successfully installed solver-0.0.4\n"
          ]
        }
      ]
    },
    {
      "cell_type": "code",
      "execution_count": 4,
      "metadata": {
        "id": "ecXiopzry8UY"
      },
      "outputs": [],
      "source": [
        "from solver import *\n",
        "\n",
        "def cauchy_euler(params,Func):\n",
        "    t0 = params['t0']\n",
        "    t_end = params['t_end']\n",
        "    h = params['h']\n",
        "    y0 = params['y0']\n",
        "    dy0 = params['dy0']\n",
        "    \n",
        "    res_euler = []\n",
        "    t = []\n",
        "    step = int((t_end - t0) / h)\n",
        "    \n",
        "    for i in range(step):\n",
        "        tm = (i + 1) * h\n",
        "        (y_next, dy_next) = euler(tm, h, y0, dy0, Func)\n",
        "        res_euler.append(y_next)\n",
        "        t.append(tm)\n",
        "        y0 = y_next\n",
        "        dy0 = dy_next\n",
        "    return (t, res_euler)\n",
        "\n",
        "def cauchy_eulercromer(params, Func):\n",
        "    t0 = params['t0']\n",
        "    t_end = params['t_end']\n",
        "    h = params['h']\n",
        "    y0 = params['y0']\n",
        "    dy0 = params['dy0']\n",
        "    \n",
        "    res_eulercromer = []\n",
        "    t = []\n",
        "    step = int((t_end - t0) / h)\n",
        "    \n",
        "    for i in range(step):\n",
        "        tm = (i + 1) * h\n",
        "        (y_next, dy_next) = eulercromer(tm, h, y0, dy0, Func)\n",
        "        res_eulercromer.append(y_next)\n",
        "        t.append(tm)\n",
        "        y0 = y_next\n",
        "        dy0 = dy_next\n",
        "    return (t, res_eulercromer)"
      ]
    }
  ]
}