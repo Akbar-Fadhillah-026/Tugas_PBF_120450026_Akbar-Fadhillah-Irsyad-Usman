{
  "nbformat": 4,
  "nbformat_minor": 0,
  "metadata": {
    "colab": {
      "name": "026_Tugas 1 .ipynb",
      "provenance": []
    },
    "kernelspec": {
      "name": "python3",
      "display_name": "Python 3"
    },
    "language_info": {
      "name": "python"
    }
  },
  "cells": [
    {
      "cell_type": "markdown",
      "source": [
        "# Simple Password Encryption [Case 1]\n",
        "\n",
        "Seorang user dari sebuah website ingin meningkatkan security dari password yang dia miliki dengan metode\n",
        "mengubah password nya menjadi bentuk lain dengan beberapa aturan enkripsi sebagai berikut:\n",
        "1. Input password bertipe string dengan batasan panjang password 100 karakter\n",
        "2. Setiap karakter dari string tersebut diubah menjadi ASCII value\n",
        "3. Kemudian setiap ASCII value tersebut dikembangkan menjadi 3 value dengan dilakukan operasi berikut:\n",
        "a. Value pertama dibagi dengan integer 26 kemudian dibulatkan dan dijumlahkan dengan 80\n",
        "kemudian diubah kembali menjadi karakter\n",
        "b. Value kedua dihitung sisa bagi dengan 26 kemudian dijumlahkan dengan 80 kemudian diubah\n",
        "kembali menjadi karakter\n",
        "c. Value ketiga adalah karakter ‘+’ jika value pertama lebih besar dari value kedua, atau value ketiga\n",
        "adalah karakter ‘-’ jika value pertama tidak lebih besar dari value kedua\n",
        "\n",
        "4. Deretkan value pertama, kedua dan ketiga untuk setiap karakter dalam password tersebut sehingga\n",
        "didapatkan password dalam bentuk baru\n",
        "\n",
        "**a. Bantulah user tersebut dengan membuatkan sebuah program yang secara\n",
        "otomatis mengubah password yang di input menjadi terenkripsi sesuai aturan\n",
        "tersebut!**\n",
        "\n",
        "**b. Apa output yang dihasilkan dari program tersebut jika input password adalah\n",
        "‘anakanakcerdas2020’ ?**\n",
        "\n",
        "**c. (Bonus) User tersebut lupa password asli yang dia inputkan ke dalam program\n",
        "tersebut, password setelah dienkripsi adalah\n",
        "‘Sc-TV-Sc-TS+T[-Sc-TQ+TV-T[-Sf-Sc-T\\-Sc-Qh-Qf-Qh-Qf-TS+Sg-Se-Sg-’.\n",
        "Bantulah user tersebut mendapatkan password asli nya!**"
      ],
      "metadata": {
        "id": "OaLBHJ43p04d"
      }
    },
    {
      "cell_type": "code",
      "execution_count": 2,
      "metadata": {
        "colab": {
          "base_uri": "https://localhost:8080/"
        },
        "id": "Csos-OLdps0u",
        "outputId": "3c75370a-15c8-4020-cf6f-13938d6cb700"
      },
      "outputs": [
        {
          "output_type": "stream",
          "name": "stdout",
          "text": [
            "Password Asli : anakanakcerdas2020\n",
            "Encrypt : Sc+TV+Sc+TS-Sc+TV+Sc+TS-Se+Sg+TZ+Sf+Sc+T[+Qh+Qf+Qh+Qf+\n",
            "Encrypt : Sc-TV-Sc-TS+T[-Sc-TQ+TV-T[-Sf-Sc-T\\-Sc-Qh-Qf-Qh-Qf-TS+Sg-Se-Sg-\n",
            "Password Asli : anaksainsdata2020kece\n"
          ]
        }
      ],
      "source": [
        "def encrypt(pwd):\n",
        "  splitpass = list(pwd)\n",
        "  asciipass = list()\n",
        "  for char in splitpass:\n",
        "    asciichar = ord(char)\n",
        "    asciipass.append(asciichar)\n",
        "\n",
        "  np = \"\"\n",
        "  for num in asciipass:\n",
        "    firstval = num//26 + 80\n",
        "    secondval = num%26 + 80\n",
        "    if firstval > secondval:\n",
        "      thirdval = '-'\n",
        "    else:\n",
        "      thirdval = '+'\n",
        "    np = np + chr(firstval) + chr(secondval) + thirdval\n",
        "  return np\n",
        "\n",
        "def real_pw(pwd):\n",
        "  splitpass = [pwd[i:i+3] for i in range(0, len(pwd), 3)]\n",
        "  asciipass = list()\n",
        "  for word in splitpass:\n",
        "    firstval = ord(word[0]) - 80\n",
        "    secval = ord(word[1]) - 80\n",
        "    val = 26 * firstval + secval\n",
        "    asciipass.append(val)\n",
        "  password = ''\n",
        "  for i in asciipass:\n",
        "    char = chr(i)\n",
        "    password = password + char\n",
        "  return password\n",
        "\n",
        "password1 = 'anakanakcerdas2020'\n",
        "print ('Password Asli : '+ password1)\n",
        "print (\"Encrypt : \"+ encrypt(password1))\n",
        "\n",
        "password2 = \"Sc-TV-Sc-TS+T[-Sc-TQ+TV-T[-Sf-Sc-T\\-Sc-Qh-Qf-Qh-Qf-TS+Sg-Se-Sg-\"\n",
        "print (\"Encrypt : \" + password2)\n",
        "print (\"Password Asli : \" + real_pw(password2))"
      ]
    }
  ]
}