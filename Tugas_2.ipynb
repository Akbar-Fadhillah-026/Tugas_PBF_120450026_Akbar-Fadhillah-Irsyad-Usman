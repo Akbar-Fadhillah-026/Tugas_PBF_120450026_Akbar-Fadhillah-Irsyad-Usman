{
  "nbformat": 4,
  "nbformat_minor": 0,
  "metadata": {
    "colab": {
      "name": "Tugas 2.ipynb",
      "provenance": []
    },
    "kernelspec": {
      "name": "python3",
      "display_name": "Python 3"
    },
    "language_info": {
      "name": "python"
    }
  },
  "cells": [
    {
      "cell_type": "code",
      "execution_count": 20,
      "metadata": {
        "colab": {
          "base_uri": "https://localhost:8080/"
        },
        "id": "n0CvmbhWkl3r",
        "outputId": "26038c0a-0f35-4b85-8c52-11e0942de1ed"
      },
      "outputs": [
        {
          "output_type": "stream",
          "name": "stdout",
          "text": [
            "11618630337554815085247537074639538749043421784075800491438596240332637637365764884405967584806646855\n"
          ]
        }
      ],
      "source": [
        "bil1 = open('bilangan 1.txt').read()\n",
        "bil2 = open('bilangan 2.txt').read()\n",
        "\n",
        "print((lambda x,y: int(x)+int(y))(bil1,bil2))"
      ]
    }
  ]
}